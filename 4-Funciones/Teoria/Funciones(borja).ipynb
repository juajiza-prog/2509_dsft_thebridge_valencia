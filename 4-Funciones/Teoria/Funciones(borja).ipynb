{
 "cells": [
  {
   "cell_type": "markdown",
   "metadata": {},
   "source": [
    "![imagen](./img/python.jpg)"
   ]
  },
  {
   "cell_type": "markdown",
   "metadata": {},
   "source": [
    "# Funciones en Python\n",
    "\n",
    "En este Notebook tienes una guía completa para orientarte en el uso de funciones en Python.\n",
    "\n",
    "Se trata de bloques de código que encapsulan una serie de operaciones. Se usan para modular nuestros programas y evitar escribir código de más.\n",
    "\n",
    "1. [Definición, sintaxis y return](#1.-Definición,-sintaxis-y-return)\n",
    "2. [Argumentos posicionales](#2.-Argumentos-posicionales)\n",
    "3. [Argumentos variables](#3.-Argumentos-variables)\n",
    "4. [Argumentos keyword](#4.-Argumentos-keyword)\n",
    "5. [Recursividad](#5.-Recursividad)\n",
    "6. [Documentar funciones](#6.-Documentar-funciones)\n",
    "7. [Resumen](#7.-Resumen)"
   ]
  },
  {
   "cell_type": "markdown",
   "metadata": {},
   "source": [
    "## 1. Definición, sintaxis y return\n",
    "Mediante las **funciones** podemos encapsular código en formato entrada/salida. Por lo que si tienes un código repetitivo, que depende de ciertos inputs, las funciones pueden ser una buena solución.\n",
    "\n",
    "![imagen](./img/funciones.png)\n",
    "\n",
    "Es una manera de agrupar conjuntos de operaciones en módulos. **¿Cuándo usarlas?** Cuando tengamos varias operaciones que ejecutamos repetidamente en distintas partes del código. En ese caso, encapsulamos las operaciones en una función, y cada vez que haya que realizar tal operativa, llamamos a la función, y en una sola línea de código tenemos ejecutada esas operaciones.\n",
    "\n",
    "Hasta ahora hemos estado utilizando funciones *built-in*, para operaciones sencillas como `len()`, `sum()` o `max()`. En este Notebook aprenderas a crear tus propias funciones.\n",
    "\n",
    "La sintaxis es:\n",
    "> ```Python\n",
    "> def nombre_funcion(input):\n",
    ">    operaciones varias\n",
    ">    return output\n",
    "> ```\n",
    "\n",
    "Fíjate que sigue la **sintaxis de línea** vista en Notebooks anteriores. Además, todo lo que va después del `return` es ignorado, puesto que es la salida. En el `return` acaba la función. Ahora bien, eso no quiere decir que haya un único return. Si introducimos una sentencia `if/else`, podremos poner returns diferentes dependiendo de qué condición se cumpla. Vamos a crear nuestra primera función"
   ]
  },
  {
   "cell_type": "code",
   "execution_count": 2,
   "metadata": {},
   "outputs": [],
   "source": [
    "# Vamos a crear un conversor de km a millas\n",
    "def km_millas(distancia_km):\n",
    "    distancia_millas = distancia_km * 0.62\n",
    "    # print(distancia_millas)\n",
    "    return distancia_millas\n",
    "    # return None"
   ]
  },
  {
   "cell_type": "code",
   "execution_count": 3,
   "metadata": {},
   "outputs": [
    {
     "name": "stdout",
     "output_type": "stream",
     "text": [
      "0.496\n"
     ]
    }
   ],
   "source": [
    "millas = km_millas(0.8)\n",
    "print(millas)"
   ]
  },
  {
   "cell_type": "code",
   "execution_count": 4,
   "metadata": {},
   "outputs": [
    {
     "data": {
      "text/plain": [
       "function"
      ]
     },
     "execution_count": 4,
     "metadata": {},
     "output_type": "execute_result"
    }
   ],
   "source": [
    "type(km_millas)"
   ]
  },
  {
   "cell_type": "code",
   "execution_count": 7,
   "metadata": {},
   "outputs": [
    {
     "ename": "TypeError",
     "evalue": "km_millas() missing 1 required positional argument: 'distancia_km'",
     "output_type": "error",
     "traceback": [
      "\u001b[31m---------------------------------------------------------------------------\u001b[39m",
      "\u001b[31mTypeError\u001b[39m                                 Traceback (most recent call last)",
      "\u001b[36mCell\u001b[39m\u001b[36m \u001b[39m\u001b[32mIn[7]\u001b[39m\u001b[32m, line 1\u001b[39m\n\u001b[32m----> \u001b[39m\u001b[32m1\u001b[39m \u001b[43mkm_millas\u001b[49m\u001b[43m(\u001b[49m\u001b[43m)\u001b[49m\n",
      "\u001b[31mTypeError\u001b[39m: km_millas() missing 1 required positional argument: 'distancia_km'"
     ]
    }
   ],
   "source": [
    "km_millas()"
   ]
  },
  {
   "cell_type": "code",
   "execution_count": null,
   "metadata": {},
   "outputs": [],
   "source": [
    "print(km_millas(2))\n",
    "print(km_millas(5))\n",
    "print(km_millas(10))"
   ]
  },
  {
   "cell_type": "markdown",
   "metadata": {},
   "source": [
    "Las funciones no tienen por qué llevar argumentos. Eso sí, **es obligatorio** poner los parentesis, tanto en la declaración, como luego al llamar la función."
   ]
  },
  {
   "cell_type": "code",
   "execution_count": 9,
   "metadata": {},
   "outputs": [],
   "source": [
    "from datetime import datetime\n",
    "\n",
    "def que_hora_es():\n",
    "    now = datetime.now().time()\n",
    "\n",
    "    print(now)\n",
    "    return now"
   ]
  },
  {
   "cell_type": "code",
   "execution_count": 10,
   "metadata": {},
   "outputs": [
    {
     "name": "stdout",
     "output_type": "stream",
     "text": [
      "12:02:06.665491\n"
     ]
    }
   ],
   "source": [
    "hora = que_hora_es()\n",
    "#print(hora)\n"
   ]
  },
  {
   "cell_type": "markdown",
   "metadata": {},
   "source": [
    "**Tampoco tienen por qué llevar un `return`**. No siempre es necesario un output. En tal caso, devuelve `None`"
   ]
  },
  {
   "cell_type": "code",
   "execution_count": 11,
   "metadata": {},
   "outputs": [
    {
     "name": "stdout",
     "output_type": "stream",
     "text": [
      "12:14:42.211670\n",
      "None\n"
     ]
    }
   ],
   "source": [
    "from datetime import datetime\n",
    "\n",
    "def que_hora_es():\n",
    "    now = datetime.now().time()\n",
    "    print(now)\n",
    "\n",
    "print(que_hora_es())"
   ]
  },
  {
   "cell_type": "code",
   "execution_count": 12,
   "metadata": {},
   "outputs": [
    {
     "name": "stdout",
     "output_type": "stream",
     "text": [
      "12:14:44.929855\n",
      "None\n"
     ]
    }
   ],
   "source": [
    "print(que_hora_es())"
   ]
  },
  {
   "cell_type": "markdown",
   "metadata": {},
   "source": [
    "También puedes poner varias salidas en el return, simplemente separándolas por comas. O si lo que quieres es un único elemento, agruparlos en una colección también puede ser otra opción."
   ]
  },
  {
   "cell_type": "code",
   "execution_count": 13,
   "metadata": {},
   "outputs": [
    {
     "name": "stdout",
     "output_type": "stream",
     "text": [
      "(datetime.time(12, 14, 55, 742936), datetime.date(2025, 9, 26))\n"
     ]
    }
   ],
   "source": [
    "def que_hora_es():\n",
    "    time = datetime.now().time()\n",
    "    date = datetime.now().date()\n",
    "    return time, date\n",
    "\n",
    "print(que_hora_es())"
   ]
  },
  {
   "cell_type": "code",
   "execution_count": 14,
   "metadata": {},
   "outputs": [
    {
     "name": "stdout",
     "output_type": "stream",
     "text": [
      "12:23:20.545980\n",
      "2025-09-26\n"
     ]
    }
   ],
   "source": [
    "hora, fecha = que_hora_es()\n",
    "print(hora)\n",
    "print(fecha)"
   ]
  },
  {
   "cell_type": "markdown",
   "metadata": {},
   "source": [
    "### Tipos de datos de los argumentos\n",
    "Lo que quieras: numeros, texto, listas, tuplas, diccionarios, objetos de clases que hayas definido..."
   ]
  },
  {
   "cell_type": "code",
   "execution_count": null,
   "metadata": {},
   "outputs": [],
   "source": [
    "def nombre_de_parejas_y_numero (nombre_pareja:str  , numero_telefono:int):\n",
    "    return   # despues de return ya no hay más código asociado a la función (es como que hace un break)"
   ]
  },
  {
   "cell_type": "code",
   "execution_count": null,
   "metadata": {},
   "outputs": [],
   "source": [
    "def recibe_mix(sssss:bool, lista, diccionario):  # se hace para ver que es lo que esperas\n",
    "    print(lista)\n",
    "    print(type(sssss))\n",
    "    return sssss"
   ]
  },
  {
   "cell_type": "code",
   "execution_count": 23,
   "metadata": {},
   "outputs": [
    {
     "name": "stdout",
     "output_type": "stream",
     "text": [
      "esto es string\n",
      "<class 'bool'>\n"
     ]
    },
    {
     "data": {
      "text/plain": [
       "True"
      ]
     },
     "execution_count": 23,
     "metadata": {},
     "output_type": "execute_result"
    }
   ],
   "source": [
    "recibe_mix(True, \"esto es string\", 75)"
   ]
  },
  {
   "cell_type": "code",
   "execution_count": null,
   "metadata": {},
   "outputs": [],
   "source": [
    "s = True\n",
    "l = \"esto es string\"\n",
    "d = 75\n",
    "\n",
    "recibe_mix(s, l, d)"
   ]
  },
  {
   "cell_type": "markdown",
   "metadata": {},
   "source": [
    "<table align=\"left\">\n",
    " <tr><td width=\"80\"><img src=\"./img/error.png\" style=\"width:auto;height:auto\"></td>\n",
    "     <td style=\"text-align:left\">\n",
    "         <h3>ERRORES variables de la función</h3>\n",
    "         \n",
    " </td></tr>\n",
    "</table>"
   ]
  },
  {
   "cell_type": "code",
   "execution_count": 24,
   "metadata": {},
   "outputs": [
    {
     "name": "stdout",
     "output_type": "stream",
     "text": [
      "(datetime.time(12, 39, 28, 216968), datetime.date(2025, 9, 26))\n"
     ]
    },
    {
     "ename": "NameError",
     "evalue": "name 'date' is not defined",
     "output_type": "error",
     "traceback": [
      "\u001b[31m---------------------------------------------------------------------------\u001b[39m",
      "\u001b[31mNameError\u001b[39m                                 Traceback (most recent call last)",
      "\u001b[36mCell\u001b[39m\u001b[36m \u001b[39m\u001b[32mIn[24]\u001b[39m\u001b[32m, line 19\u001b[39m\n\u001b[32m     14\u001b[39m \u001b[38;5;28mprint\u001b[39m(que_hora_es())\n\u001b[32m     16\u001b[39m \u001b[38;5;66;03m# ❌ ERROR: aquí se intenta usar la variable 'date' directamente fuera de la función,\u001b[39;00m\n\u001b[32m     17\u001b[39m \u001b[38;5;66;03m# pero 'date' solo existe dentro de la función que_hora_es.\u001b[39;00m\n\u001b[32m     18\u001b[39m \u001b[38;5;66;03m# Esto causará un NameError porque 'date' no está definida en este ámbito.\u001b[39;00m\n\u001b[32m---> \u001b[39m\u001b[32m19\u001b[39m \u001b[43mdate\u001b[49m\n",
      "\u001b[31mNameError\u001b[39m: name 'date' is not defined"
     ]
    }
   ],
   "source": [
    "# Todo lo que declaremos dentro de la función se crea UNICAMENTE para la función\n",
    "# Fuera de la misma, esas variables no existen\n",
    "\n",
    "# Definimos la función que_hora_es\n",
    "def que_hora_es():\n",
    "    # Obtenemos la hora actual con datetime.now().time()\n",
    "    time = datetime.now().time()\n",
    "    # Obtenemos la fecha actual con datetime.now().date()\n",
    "    date = datetime.now().date()\n",
    "    # Devolvemos una tupla (hora, fecha)\n",
    "    return time, date\n",
    "\n",
    "# Llamamos a la función y mostramos su resultado en pantalla\n",
    "print(que_hora_es())\n",
    "\n",
    "# ❌ ERROR: aquí se intenta usar la variable 'date' directamente fuera de la función,\n",
    "# pero 'date' solo existe dentro de la función que_hora_es.\n",
    "# Esto causará un NameError porque 'date' no está definida en este ámbito.\n",
    "date\n"
   ]
  },
  {
   "cell_type": "markdown",
   "metadata": {},
   "source": [
    "Se crea un namespace interno dentro de las funciones, es decir, que lo que declaremos dentro, se queda dentro. No lo podremos usar fuera. Además, ten en cuenta que todo lo que introduzcamos dentro de flujos de control (`if/else`, bucles...), nos vale para el resto de la función"
   ]
  },
  {
   "cell_type": "code",
   "execution_count": 25,
   "metadata": {},
   "outputs": [
    {
     "data": {
      "text/plain": [
       "1"
      ]
     },
     "execution_count": 25,
     "metadata": {},
     "output_type": "execute_result"
    }
   ],
   "source": [
    "# Definimos la función numero_ifs que recibe un parámetro llamado numero\n",
    "def numero_ifs(numero):\n",
    "    # Si el número es igual a 1\n",
    "    if numero == 1:\n",
    "        out = 1   # Guardamos el valor 1 en la variable out\n",
    "    else:\n",
    "        out = \"Error\"  # Si no es 1, guardamos el texto \"Error\"\n",
    "    # Devolvemos lo que tenga la variable out\n",
    "    return out\n",
    "\n",
    "# Llamamos a la función con el valor 1\n",
    "numero_ifs(1)\n",
    "\n",
    "# ❌ PROBLEMA: no se está usando print(), así que aunque la función devuelva 1,\n",
    "# el resultado no se muestra en pantalla.\n",
    "# En la consola no aparecerá nada visible.\n"
   ]
  },
  {
   "cell_type": "code",
   "execution_count": null,
   "metadata": {},
   "outputs": [],
   "source": [
    "numero_ifs(2)"
   ]
  },
  {
   "cell_type": "code",
   "execution_count": 26,
   "metadata": {},
   "outputs": [
    {
     "data": {
      "text/plain": [
       "0.62"
      ]
     },
     "execution_count": 26,
     "metadata": {},
     "output_type": "execute_result"
    }
   ],
   "source": [
    "# Conversor KM Millas Mal\n",
    "# Si no introducimos argumentos en una función que SI tiene argumentos, salta un error de este estilo\n",
    "# Definimos la función km_millas con un argumento llamado distancia_km\n",
    "# 👉 OJO: se le asigna un valor por defecto (=1), por lo que si no pasamos nada,\n",
    "# Python usará distancia_km = 1 automáticamente.\n",
    "def km_millas(distancia_km=1):\n",
    "    # Convertimos la distancia de kilómetros a millas (1 km ≈ 0.62 millas)\n",
    "    distancia_millas = distancia_km * 0.62\n",
    "    a = 1  # Variable innecesaria, pero multiplica por 1 para mantener el valor\n",
    "    return distancia_millas * a  # Devolvemos la distancia en millas\n",
    "\n",
    "# Llamamos a la función SIN pasar argumentos\n",
    "km_millas()  \n",
    "\n",
    "# 🔎 IMPORTANTE:\n",
    "# - Si NO hubiese un valor por defecto (=1), aquí saltaría un error:\n",
    "#   TypeError: km_millas() missing 1 required positional argument: 'distancia_km'\n",
    "# - Pero como sí hay valor por defecto, Python devuelve 0.62 (porque 1 * 0.62 = 0.62).\n",
    "# - Tampoco aparece nada en pantalla, porque no usamos print().\n"
   ]
  },
  {
   "cell_type": "markdown",
   "metadata": {},
   "source": [
    "Cuidado también con la sintaxis de línea. Después de dos puntos `:`, viene todo el bloque de código tabulado, de la función"
   ]
  },
  {
   "cell_type": "markdown",
   "metadata": {},
   "source": [
    "<table align=\"left\">\n",
    " <tr><td width=\"80\"><img src=\"./img/ejercicio.png\" style=\"width:auto;height:auto\"></td>\n",
    "     <td style=\"text-align:left\">\n",
    "         <h3>Ejercicio. Crea tu propia función</h3>\n",
    "\n",
    "Crea tu propia función. En este caso, queremos implementar una función para saber si podremos ir de excursión a la montaña. Para ello, la función recibirá dos argumentos: tiempo, que será un booleano, y una lista con acompañantes. Si hace buen tiempo y al menos vienen dos personas conmigo -> return el primero que se apuntó a la lista, si solo hace buen tiempo -> return \"A la montaña solo o en pareja\", y si no, return \"No podemos ir\"\n",
    "         \n",
    " </td></tr>\n",
    "</table>"
   ]
  },
  {
   "cell_type": "code",
   "execution_count": 38,
   "metadata": {},
   "outputs": [
    {
     "data": {
      "text/plain": [
       "'no podemos ir'"
      ]
     },
     "execution_count": 38,
     "metadata": {},
     "output_type": "execute_result"
    }
   ],
   "source": [
    "tiempo = bool ()\n",
    "lista = []\n",
    "#type(tiempo)\n",
    "#type(lista)\n",
    "def excursion (tiempo, lista):\n",
    "    if tiempo == True and len(lista)>=2:\n",
    "        return lista[0]\n",
    "    elif tiempo == True and len(lista)==0:\n",
    "        return (\"A la montaña solo o en pareja\")\n",
    "    else:\n",
    "        return (\"no podemos ir\")\n",
    "    \n",
    "\n",
    "excursion (True, (\"Pedro\", \"Jose\"))\n",
    "excursion (True, ())\n",
    "excursion (\"hola\", ())"
   ]
  },
  {
   "cell_type": "code",
   "execution_count": 42,
   "metadata": {},
   "outputs": [
    {
     "name": "stdout",
     "output_type": "stream",
     "text": [
      "Ana\n",
      "a la montaña solo o con pareja\n",
      "no puedes ir\n"
     ]
    }
   ],
   "source": [
    "def excursion (tiempo:bool, acompañantes: list):\n",
    "    if tiempo and len(acompañantes)>=2:\n",
    "        return acompañantes[0]\n",
    "    elif tiempo:\n",
    "        return (\"a la montaña solo o con pareja\")\n",
    "    else:\n",
    "        return (\"no puedes ir\")\n",
    "    \n",
    "print (excursion(True, [\"Ana\", \"Diego\", \"Fer\"]))\n",
    "print (excursion(True, [\"Ana\"]))\n",
    "print (excursion(False, [\"Ana\"]))"
   ]
  },
  {
   "cell_type": "markdown",
   "metadata": {},
   "source": [
    "## 2. Argumentos posicionales\n",
    "Ya sabes cómo crear funciones con un solo argumento. Tendrás la opción de implementarlas con todos los argumentos que quieras. Ahora bien, ten en cuenta dos cosas:\n",
    "\n",
    "1. **El orden** de los argumentos. Cuando llamemos a la función, tenemos que seguir el mismo orden de argumentos que en la declaración de la función.\n",
    "2. **Son obligatorios**. Si los declaramos en la función, después al llamarla, tenemos que poner todos sus argumentos. Luego veremos que hay una manera de poner argumentos opcionales."
   ]
  },
  {
   "cell_type": "code",
   "execution_count": 43,
   "metadata": {},
   "outputs": [
    {
     "data": {
      "text/plain": [
       "84.0"
      ]
     },
     "execution_count": 43,
     "metadata": {},
     "output_type": "execute_result"
    }
   ],
   "source": [
    "#Multiplicamos los tres primeros valores y dividimos entre el cuarto\n",
    "\n",
    "def multiplica(x1, x2, x3, x4):\n",
    "    return (x1*x2*x3)/x4\n",
    "\n",
    "multiplica(4,6,7,2)"
   ]
  },
  {
   "cell_type": "markdown",
   "metadata": {},
   "source": [
    "Fijate que los argumentos siguen un determinado orden: x1, x2, x3, x4. Cuando llamamos a la función, introduciremos 4 argumentos y la función los recogerá en ese orden. Asignará 4 a x1, 6 a x2, etc. Podemos también especificar el nombre del argumento en la llamada, lo que nos permite tener mayor flexibilidad en el orden."
   ]
  },
  {
   "cell_type": "code",
   "execution_count": 44,
   "metadata": {},
   "outputs": [
    {
     "data": {
      "text/plain": [
       "84.0"
      ]
     },
     "execution_count": 44,
     "metadata": {},
     "output_type": "execute_result"
    }
   ],
   "source": [
    "multiplica(x4 = 2,\n",
    "           x2 = 6,\n",
    "           x3 = 7,\n",
    "           x1 = 4)"
   ]
  },
  {
   "cell_type": "code",
   "execution_count": 45,
   "metadata": {},
   "outputs": [],
   "source": [
    "def x (arg1, arg2):\n",
    "    x(arg2=2)"
   ]
  },
  {
   "cell_type": "code",
   "execution_count": null,
   "metadata": {},
   "outputs": [],
   "source": []
  },
  {
   "cell_type": "code",
   "execution_count": null,
   "metadata": {},
   "outputs": [],
   "source": []
  },
  {
   "cell_type": "code",
   "execution_count": null,
   "metadata": {},
   "outputs": [],
   "source": []
  },
  {
   "cell_type": "markdown",
   "metadata": {},
   "source": [
    "<table align=\"left\">\n",
    " <tr><td width=\"80\"><img src=\"./img/error.png\" style=\"width:auto;height:auto\"></td>\n",
    "     <td style=\"text-align:left\">\n",
    "         <h3>ERRORES Traza del error dentro de la función</h3>\n",
    "         \n",
    " </td></tr>\n",
    "</table>"
   ]
  },
  {
   "cell_type": "code",
   "execution_count": null,
   "metadata": {},
   "outputs": [],
   "source": [
    "# Dividir entre cero da error \n",
    "multiplica(4,\n",
    "           6,\n",
    "           7,\n",
    "           0)"
   ]
  },
  {
   "cell_type": "markdown",
   "metadata": {},
   "source": [
    "Fijate que aparece toda la traza del error, tanto la línea donde llamas a la función, como el error dentro de la función. Podemos solventar el error, introduciendo un bloque `try/except`"
   ]
  },
  {
   "cell_type": "code",
   "execution_count": 46,
   "metadata": {},
   "outputs": [
    {
     "name": "stdout",
     "output_type": "stream",
     "text": [
      "Error en la funcion\n",
      "division by zero\n"
     ]
    }
   ],
   "source": [
    "try:\n",
    "    print(multiplica(x1 = 4,\n",
    "           x2 = 6,\n",
    "           x3 = 7,\n",
    "           x4 = 0))\n",
    "    \n",
    "except ZeroDivisionError as e:\n",
    "    print(\"Error en la funcion\")\n",
    "    print(e)"
   ]
  },
  {
   "cell_type": "markdown",
   "metadata": {},
   "source": [
    "## 3. Argumentos variables\n",
    "En los ejemplos anteriores teníamos que fijar un número concreto de argumentos, pero hay ocasiones que no tenemos seguro cuántos argumentos son. Por suerte, las funciones de Python nos aportan esa flexibilidad mediante `*`\n",
    "\n",
    "Veamos cómo implementar una función multiplicadora con numero variable de argumentos\n",
    "\n",
    "El * le dice a Python:\n",
    "\n",
    "“todo lo que no tenga un nombre específico, mételo dentro de args como una tupla”.\n",
    "\n",
    "Así puedes pasar cualquier cantidad de valores sin tener que definir uno por uno."
   ]
  },
  {
   "cell_type": "code",
   "execution_count": null,
   "metadata": {},
   "outputs": [],
   "source": [
    "print(\"Hola\", \"mundo\")\n",
    "print(\"Hola\" + \" \" + \"mundo\")"
   ]
  },
  {
   "cell_type": "code",
   "execution_count": 47,
   "metadata": {},
   "outputs": [
    {
     "name": "stdout",
     "output_type": "stream",
     "text": [
      "10\n",
      "420\n",
      "2\n"
     ]
    }
   ],
   "source": [
    "# Definimos la función multipl_var que recibe un número variable de argumentos\n",
    "def multipl_var(*args):\n",
    "    # 'args' es una tupla con todos los valores que pasemos a la función\n",
    "    # print(type(args))  # Esto mostraría que 'args' es de tipo tuple\n",
    "    # print(args)        # Esto mostraría el contenido de la tupla\n",
    "    \n",
    "    total = 1  # Inicializamos el acumulador en 1 (para poder multiplicar)\n",
    "    for i in args:         # Recorremos cada número recibido en 'args'\n",
    "        total = total * i  # Multiplicamos el acumulador por cada número\n",
    "        \n",
    "    return total  # Devolvemos el resultado final de la multiplicación\n",
    "    \n",
    "    \n",
    "# Ejemplos de uso de la función:\n",
    "print(multipl_var(2, 5))        # 2 * 5 = 10\n",
    "print(multipl_var(2, 5, 6, 7))  # 2 * 5 * 6 * 7 = 420\n",
    "print(multipl_var(2))           # Solo un número → devuelve 2\n"
   ]
  },
  {
   "cell_type": "markdown",
   "metadata": {},
   "source": [
    "Ten en cuenta que `*args` es algo variable con X elementos. Como no sabemos a priori cuantos son, tendremos que recorrerlos con un `for`, y para cada argumento, aplicarle una operación. Por tanto, `*args` es un iterable, en concreto una **tupla**. Lo que le está dando la funcionalidad de \"argumentos variables\" es `*`, no `args`. Igual que ponemos `*args`, podemos poner `*argumentos`.\n",
    "\n",
    "Puedes combinar argumentos posicionales con los `*args`"
   ]
  },
  {
   "cell_type": "code",
   "execution_count": 48,
   "metadata": {},
   "outputs": [
    {
     "data": {
      "text/plain": [
       "420.0"
      ]
     },
     "execution_count": 48,
     "metadata": {},
     "output_type": "execute_result"
    }
   ],
   "source": [
    "## En este ejemplo, uso el ultimo argumento para dividir todo lo que habiamos multiplicado por este argumento\n",
    "def multipl_var_div(*args, div):   \n",
    "    total = 1\n",
    "    for i in args:          # Recorremos todos los valores que llegan en args\n",
    "        total = total * i   # Vamos multiplicando uno por uno\n",
    "    return total / div      # Dividimos el resultado final entre el argumento 'div'\n",
    "\n",
    "# Ejemplo de uso:\n",
    "multipl_var_div(2, 5, 3, 6, 2, 1, 7, div=6)\n"
   ]
  },
  {
   "cell_type": "code",
   "execution_count": null,
   "metadata": {},
   "outputs": [],
   "source": []
  },
  {
   "cell_type": "markdown",
   "metadata": {},
   "source": [
    "<table align=\"left\">\n",
    " <tr><td width=\"80\"><img src=\"./img/error.png\" style=\"width:auto;height:auto\"></td>\n",
    "     <td style=\"text-align:left\">\n",
    "         <h3>ERRORES con argumentos variables</h3>\n",
    "         \n",
    " </td></tr>\n",
    "</table>"
   ]
  },
  {
   "cell_type": "markdown",
   "metadata": {},
   "source": [
    "Declara los argumentos variables al principio, y los fijos al final para evitar errores. Además, si los combinas, tendrás que concretar cuáles son los argumentos fijos"
   ]
  },
  {
   "cell_type": "code",
   "execution_count": null,
   "metadata": {},
   "outputs": [],
   "source": [
    "def multipl_var_div(*args, div):   \n",
    "    total = 1\n",
    "    for i in args:\n",
    "        total = total * i\n",
    "    return total/div\n",
    "\n",
    "multipl_var_div(2,5,3, 6)"
   ]
  },
  {
   "cell_type": "markdown",
   "metadata": {},
   "source": [
    "<table align=\"left\">\n",
    " <tr><td width=\"80\"><img src=\"./img/ejercicio.png\" style=\"width:auto;height:auto\"></td>\n",
    "     <td style=\"text-align:left\">\n",
    "         <h3>Ejercicio argumentos variables</h3>\n",
    "Crea una función que reciba un numero variable de marcas de coche, las concatene todas separandolas por \"+\" y devuelva ese string concatenado\n",
    "         \n",
    " </td></tr>\n",
    "</table>"
   ]
  },
  {
   "cell_type": "code",
   "execution_count": null,
   "metadata": {},
   "outputs": [
    {
     "ename": "SyntaxError",
     "evalue": "unmatched ')' (2775102270.py, line 3)",
     "output_type": "error",
     "traceback": [
      "  \u001b[36mCell\u001b[39m\u001b[36m \u001b[39m\u001b[32mIn[54]\u001b[39m\u001b[32m, line 3\u001b[39m\n\u001b[31m    \u001b[39m\u001b[31mprint (argu[i]))\u001b[39m\n                   ^\n\u001b[31mSyntaxError\u001b[39m\u001b[31m:\u001b[39m unmatched ')'\n"
     ]
    }
   ],
   "source": [
    "def marcas(*argu):\n",
    "    for i in argu   # si se puede\n",
    "    print (argu[i])) # esto esta mal\n",
    "\n",
    "marcas (\"audi\", \"seat\", \"ford\")"
   ]
  },
  {
   "cell_type": "code",
   "execution_count": 60,
   "metadata": {},
   "outputs": [
    {
     "data": {
      "text/plain": [
       "'audi+ford'"
      ]
     },
     "execution_count": 60,
     "metadata": {},
     "output_type": "execute_result"
    }
   ],
   "source": [
    "def marcas_coche (*args):\n",
    "    return \"+\".join(args)\n",
    "marcas_coche (\"audi\", \"ford\")"
   ]
  },
  {
   "cell_type": "code",
   "execution_count": null,
   "metadata": {},
   "outputs": [],
   "source": [
    "def coches (*args):\n",
    "    lista=[]\n",
    "    for i in args:\n",
    "        lista.append(i)\n",
    "    return \"+\".join(lista)"
   ]
  },
  {
   "cell_type": "code",
   "execution_count": 62,
   "metadata": {},
   "outputs": [
    {
     "name": "stdout",
     "output_type": "stream",
     "text": [
      "a+b+c\n"
     ]
    }
   ],
   "source": [
    "lista = [\"a\", \"b\", \"c\"]\n",
    "resultado = marcas_coche(*lista)\n",
    "print (resultado)"
   ]
  },
  {
   "cell_type": "markdown",
   "metadata": {},
   "source": [
    "### Argumentos variables con clave-valor \n",
    "Tenemos también la opción de introducir un diccionario como argumentos, de esta forma, aunque el numero de argumentos sea variable, tendremos un inidicador, la clave, y el valor de cada clave. Se implementa con `**`"
   ]
  },
  {
   "cell_type": "code",
   "execution_count": null,
   "metadata": {
    "collapsed": true,
    "jupyter": {
     "outputs_hidden": true
    },
    "tags": []
   },
   "outputs": [],
   "source": [
    "# Definimos la función movil con **args\n",
    "# El doble asterisco ** indica que la función recibirá argumentos con nombre (keyword arguments)\n",
    "# y los guardará en un diccionario llamado args\n",
    "def movil(**args):\n",
    "    # Mostramos el diccionario completo\n",
    "    print(args)\n",
    "    # Mostramos el tipo de dato (siempre será <class 'dict'>)\n",
    "    print(type(args))\n",
    "    \n",
    "    # Recorremos el diccionario con un bucle for\n",
    "    # key será la \"clave\" (nombre del argumento)\n",
    "    # value será el \"valor\" de ese argumento\n",
    "    for key, value in args.items():\n",
    "        print(key, \"=\", value)\n",
    "\n",
    "\n",
    "\n"
   ]
  },
  {
   "cell_type": "code",
   "execution_count": null,
   "metadata": {},
   "outputs": [],
   "source": [
    "# Ejemplo de uso\n",
    "movil(marca=\"Samsung\", modelo=\"S23\", color=\"Negro\")"
   ]
  },
  {
   "cell_type": "markdown",
   "metadata": {},
   "source": [
    "### Combinar `*args` con `**kwargs`\n",
    "No hay ningun problema en tener un numero variable de argumentos y también argumentos clave-valor, todo ello en la misma función."
   ]
  },
  {
   "cell_type": "code",
   "execution_count": null,
   "metadata": {},
   "outputs": [],
   "source": [
    "# Definimos la función movil con tres tipos de parámetros:\n",
    "# - div → argumento normal (obligatorio)\n",
    "# - *args → argumentos posicionales variables (se guardan en una tupla)\n",
    "# - **kargs → argumentos con nombre variables (se guardan en un diccionario)\n",
    "def movil(div, *args, **kargs):\n",
    "    \n",
    "    # Recorremos y mostramos todos los valores de args (tupla)\n",
    "    for i in args:\n",
    "        print(i)\n",
    "        \n",
    "    # Recorremos y mostramos todos los pares clave=valor de kargs (diccionario)\n",
    "    for key, value in kargs.items():\n",
    "        print(key, \"=\", value)\n",
    "    \n",
    "    # Finalmente mostramos el argumento obligatorio 'div'\n",
    "    print(div)\n",
    "\n",
    "\n",
    "\n"
   ]
  },
  {
   "cell_type": "code",
   "execution_count": null,
   "metadata": {},
   "outputs": [],
   "source": [
    "# Ejemplo de uso:\n",
    "movil(10, \"Samsung\", \"iPhone\", marca=\"Xiaomi\", color=\"Negro\")"
   ]
  },
  {
   "cell_type": "markdown",
   "metadata": {},
   "source": [
    "## 4. Argumentos keyword\n",
    "Existe otro tipo de argumentos que son los *keyword*. Se caracterizan porque llevan un valor por defecto, y por tanto, si no usamos dicho argumento en la llamada, dentro de la función tomará el valor que hayamos dejado por defecto.\n",
    "\n",
    "Ten en cuenta que estos argumentos se colocan **al final**"
   ]
  },
  {
   "cell_type": "code",
   "execution_count": 63,
   "metadata": {},
   "outputs": [
    {
     "data": {
      "text/plain": [
       "[6, 2, 1]"
      ]
     },
     "execution_count": 63,
     "metadata": {},
     "output_type": "execute_result"
    }
   ],
   "source": [
    "sorted([2,1,6], reverse=True)"
   ]
  },
  {
   "cell_type": "code",
   "execution_count": null,
   "metadata": {
    "collapsed": true,
    "jupyter": {
     "outputs_hidden": true
    },
    "tags": []
   },
   "outputs": [],
   "source": [
    "# Definimos la función venta_online con 3 parámetros:\n",
    "# - pedido (obligatorio)\n",
    "# - fecha_entrega (obligatorio)\n",
    "# - incidencia (opcional, por defecto es False)\n",
    "def venta_online(pedido, fecha_entrega, incidencia=False):\n",
    "    \n",
    "    # Si hay una incidencia (incidencia = True)\n",
    "    if incidencia:\n",
    "        print(\"Contacte con Att. Cliente\")\n",
    "    \n",
    "    # Si no hay incidencia (incidencia = False)\n",
    "    else:\n",
    "        print(\"Su pedido\", pedido, \"se entregará el\", fecha_entrega)"
   ]
  },
  {
   "cell_type": "code",
   "execution_count": null,
   "metadata": {},
   "outputs": [],
   "source": [
    "# Ejemplos de uso:\n",
    "# Llamada sin pasar 'incidencia', usa el valor por defecto (False)\n",
    "venta_online(\"AAA\", \"18-07-2021\")\n",
    "# → Su pedido AAA se entregará el 18-07-2021\n",
    "\n",
    "# Llamada pasando incidencia=False explícitamente\n",
    "venta_online(\"AAA\", \"18-07-2021\", incidencia=False)\n",
    "# → Su pedido AAA se entregará el 18-07-2021\n",
    "\n",
    "# Llamada pasando incidencia=True\n",
    "venta_online(\"AAA\", \"18-07-2021\", incidencia=True)\n",
    "# → Contacte con Att. Cliente"
   ]
  },
  {
   "cell_type": "code",
   "execution_count": null,
   "metadata": {},
   "outputs": [],
   "source": [
    "# Definimos la función test_keyword con un argumento llamado var\n",
    "# Por defecto, var = [3,5] si no se pasa nada\n",
    "def test_keyword(var=[3,5]):\n",
    "    # Imprimimos el primer elemento de la lista var (posición 0)\n",
    "    print(var[0])\n",
    "\n",
    "\n",
    "# Llamamos a la función pasando la lista [0,5,8] como argumento\n",
    "# Entonces var = [0,5,8], y var[0] = 0\n",
    "test_keyword([0,5,8])  # Imprime 0"
   ]
  },
  {
   "cell_type": "markdown",
   "metadata": {},
   "source": [
    "<table align=\"left\">\n",
    " <tr><td width=\"80\"><img src=\"./img/error.png\" style=\"width:auto;height:auto\"></td>\n",
    "     <td style=\"text-align:left\">\n",
    "         <h3>ERRORES con argumentos keyword</h3>\n",
    "         \n",
    " </td></tr>\n",
    "</table>"
   ]
  },
  {
   "cell_type": "code",
   "execution_count": null,
   "metadata": {},
   "outputs": [],
   "source": [
    "def venta_online(pedido, incidencia=False, fecha_entrega): #mal ordenado. el false deberia ir al final  (obli, oblig, true or false)\n",
    "    if incidencia:\n",
    "        print(\"Contacte con Att. Cliente\")\n",
    "    else:\n",
    "        print(\"Su pedido\", pedido, \"se entregará el\", fecha_entrega)\n",
    "\n",
    "venta_online(\"AAA\", \"18-07-2021\")"
   ]
  },
  {
   "cell_type": "markdown",
   "metadata": {},
   "source": [
    "#### Error en la definición de parámetros de una función en Python\n",
    "\n",
    "#### El código problemático\n",
    "```python\n",
    "def venta_online(pedido, incidencia=False, fecha_entrega):\n",
    "    if incidencia:\n",
    "        print(\"Contacte con Att. Cliente\")\n",
    "    else:\n",
    "        print(\"Su pedido\", pedido, \"se entregará el\", fecha_entrega)\n",
    "\n",
    "venta_online(\"AAA\", \"18-07-2021\")\n",
    "```\n",
    "\n",
    "\n",
    "\n",
    "#### El problema\n",
    "Python **no permite** definir un argumento **con valor por defecto** (`incidencia=False`) antes de un argumento **obligatorio** (`fecha_entrega`).  \n",
    "\n",
    "Esto genera el error:\n",
    "```\n",
    "SyntaxError: non-default argument follows default argument\n",
    "```\n",
    "\n",
    "\n",
    "\n",
    "#### Regla en Python\n",
    "El orden correcto de los parámetros en una función es:\n",
    "1. **Argumentos posicionales obligatorios**  \n",
    "2. **Argumentos con valores por defecto (opcionales)**  \n",
    "3. `*args` (argumentos variables posicionales)  \n",
    "4. Argumentos keyword-only (si se usan `*`)  \n",
    "5. `**kwargs` (argumentos variables con nombre)  \n",
    "\n",
    "\n",
    "\n",
    "\n",
    "\n"
   ]
  },
  {
   "cell_type": "code",
   "execution_count": null,
   "metadata": {},
   "outputs": [],
   "source": [
    "def venta_online(pedido, fecha_entrega, incidencia=False):\n",
    "    if incidencia:\n",
    "        print(\"Contacte con Att. Cliente\")\n",
    "    else:\n",
    "        print(\"Su pedido\", pedido, \"se entregará el\", fecha_entrega)"
   ]
  },
  {
   "cell_type": "code",
   "execution_count": null,
   "metadata": {},
   "outputs": [],
   "source": [
    "# Ejemplo de uso\n",
    "venta_online(\"AAA\", \"18-07-2021\")"
   ]
  },
  {
   "cell_type": "markdown",
   "metadata": {},
   "source": [
    "#### En resumen: siempre coloca **primero los argumentos obligatorios** y **después los opcionales con valor por defecto**."
   ]
  },
  {
   "cell_type": "markdown",
   "metadata": {},
   "source": [
    "## 5. Recursividad\n",
    "Una función se puede llamar a si misma en la propia declaración, como si de un bucle se tratase. Es un concepto algo complejo, pero elegante a la hora de implementar nuestros programas. La única parte negativa es que cuesta un poco comprender qué es lo que hace la función. Como todo, tiene sus ventajas y sus inconvenientes.\n",
    "\n",
    "Calculemos el factorial de un numero *!n*\n",
    "\n",
    "**n!=n×(n−1)×(n−2)×⋯×2×1**"
   ]
  },
  {
   "cell_type": "code",
   "execution_count": 1,
   "metadata": {
    "collapsed": true,
    "jupyter": {
     "outputs_hidden": true
    },
    "tags": []
   },
   "outputs": [
    {
     "name": "stdout",
     "output_type": "stream",
     "text": [
      "1\n",
      "output 1\n",
      "2\n",
      "output 2\n",
      "3\n",
      "output 6\n",
      "4\n",
      "output 24\n",
      "5\n",
      "output 120\n",
      "\n",
      " 120\n"
     ]
    }
   ],
   "source": [
    "# Lo podriamos calcular con un bucle\n",
    "num_factorial = 5\n",
    "\n",
    "output = 1\n",
    "\n",
    "for i in range(num_factorial):\n",
    "    # print('i', i)\n",
    "    output = output * (i+1)\n",
    "    print(i+1)\n",
    "    print(\"output\", output)\n",
    "    \n",
    "print('\\n',output)"
   ]
  },
  {
   "cell_type": "markdown",
   "metadata": {},
   "source": [
    "5! = 5 * 4 * 3 * 2 * 1\n",
    "\n",
    "4! = 4 * 3 * 2 * 1\n",
    "\n",
    "5! = 5 * 4!\n",
    "\n",
    "4! = 4 * 3!\n",
    "\n",
    "factorial(n) = n * factorial(n-1)"
   ]
  },
  {
   "cell_type": "code",
   "execution_count": 3,
   "metadata": {},
   "outputs": [],
   "source": [
    "# Definimos la función recursiva para calcular el factorial\n",
    "def factorial_recursivo(n):\n",
    "    # Caso base: cuando n es 0 o 1, el factorial es 1\n",
    "    if n == 0 or n == 1:\n",
    "        return 1\n",
    "    # Caso recursivo: n! = n * (n-1)!\n",
    "    else:\n",
    "        return n * factorial_recursivo(n - 1)\n"
   ]
  },
  {
   "cell_type": "code",
   "execution_count": null,
   "metadata": {},
   "outputs": [
    {
     "name": "stdout",
     "output_type": "stream",
     "text": [
      "120\n",
      "6\n",
      "1\n"
     ]
    }
   ],
   "source": [
    "# Ejemplos de uso\n",
    "print(factorial_recursivo(5))  \n",
    "print(factorial_recursivo(3))  \n",
    "print(factorial_recursivo(0))  "
   ]
  },
  {
   "cell_type": "markdown",
   "metadata": {},
   "source": [
    "![imagen](./img/factorial.png)\n",
    "\n",
    "![imagen](./img/recursivity.jpg)\n",
    "\n",
    "[Ejemplo paso a paso de cómo se calcula un factorial mediante funciones recursivas](https://www.programiz.com/python-programming/recursion#:~:text=Following%20is%20an%20example%20of,*5*6%20%3D%20720%20.)"
   ]
  },
  {
   "cell_type": "markdown",
   "metadata": {},
   "source": [
    "## 6. Documentar funciones\n",
    "Como ya vimos en el primer Notebook, hay que documentar el código en la medida de lo posible. En particular, es necesario documentar bien las funciones. porque muchas veces las importamos de otro sitio, las usamos porque funcionan, pero no sabemos muy bien que hacen. Es por ello, que en Python existe un atributo dentro de las funciones, módulos, métodos o clases, que permite acceder a \"sus comentarios\", a su documentación, donde nos indica qué es lo que hace.\n",
    "\n",
    "Este atributo especial se llama *docstring*, y se accede mediante `nombre_funcion.__doc__`"
   ]
  },
  {
   "cell_type": "code",
   "execution_count": null,
   "metadata": {},
   "outputs": [],
   "source": [
    "def multiplica(x:float, y:float):\n",
    "    '''\n",
    "    Funcion que multiplica los dos argumentos: x*y\n",
    "    Inputs:\n",
    "        x: float\n",
    "        y: float\n",
    "        \n",
    "    Output:\n",
    "        x * y: float\n",
    "    '''\n",
    "    return float(x*y)\n",
    "\n",
    "# print(multiplica(2,2))\n",
    "print(multiplica.__doc__)"
   ]
  },
  {
   "cell_type": "markdown",
   "metadata": {},
   "source": [
    "Los comentarios que se ponen pueden ser de línea o multilínea. Para funciones sencillas puede ser suficiente con una sola línea de comentario, pero si fuesen más complejas, el *docstring* debería llevar la siguiente información:\n",
    "* Descripción de la función\n",
    "* Argumentos de entrada: nombre, tipos y qué es lo que hacen\n",
    "* Argumentos de salida: nombre, tipos y qué son"
   ]
  },
  {
   "cell_type": "markdown",
   "metadata": {},
   "source": [
    "## 7. Resumen"
   ]
  },
  {
   "cell_type": "code",
   "execution_count": null,
   "metadata": {},
   "outputs": [],
   "source": [
    "# Una funcion tiene la siguiente sintaxis\n",
    "def km_millas(distancia):\n",
    "    millas = distancia * 0.62\n",
    "    return millas\n",
    "\n",
    "# La podemos llamar cuántas veces queramos\n",
    "print(km_millas(2))\n",
    "print(km_millas(5))\n",
    "print(km_millas(10))\n",
    "\n",
    "# Las funciones pueden tener argumentos posicionales\n",
    "def multipl(x1, x2, x3, x4):\n",
    "    return (x1 * x2 * x3) / x4\n",
    "\n",
    "multipl(4,6,7,2)\n",
    "\n",
    "# Argumentos variables\n",
    "def multipl_var(*args):\n",
    "    print(type(args))\n",
    "    mult_tot = 1\n",
    "    \n",
    "    for i in args:\n",
    "        mult_tot = mult_tot * i\n",
    "        \n",
    "    return mult_tot\n",
    "\n",
    "\n",
    "multipl_var(4,5,6,3)\n",
    "\n",
    "\n",
    "# Argumentos con formato clave valor\n",
    "def movil(**kwargs):\n",
    "    \n",
    "    print(type(kwargs))\n",
    "    for key, value in kwargs.items():\n",
    "        print(key, \"=\", value)\n",
    "        \n",
    "    return kwargs\n",
    "\n",
    "# Llamamos a la funcion\n",
    "print(movil(Camara = \"24MPx\",\n",
    "           Bateria = 10,\n",
    "           Peso = 200))\n",
    "\n",
    "\n",
    "# Argumentos keyword\n",
    "def venta_online(pedido, fecha_entrega, incidencia = False):\n",
    "    \n",
    "    if(incidencia):\n",
    "        print(\"Contacte con Att. Cliente\")\n",
    "        \n",
    "    else:\n",
    "        print(\"Su pedido\", pedido, \"se entregará el\", fecha_entrega)\n",
    "        \n",
    "venta_online(\"AAA\", \"20-07-2020\")\n",
    "venta_online(\"AAA\", \"20-07-2020\", True)\n",
    "\n",
    "\n",
    "\n",
    "# Las funciones se documentan con el atributo docstring\n",
    "def multiplica(x,y):\n",
    "    \"\"\"\n",
    "    Funcion que multiplca los dos argumentos: x*y\n",
    "    \"\"\"\n",
    "    print(\"Empieza la funcion\")\n",
    "    # Mas comentarios\n",
    "    \n",
    "    return x*y\n",
    "\n",
    "print(multiplica(2,2))\n",
    "print(multiplica.__doc__)"
   ]
  }
 ],
 "metadata": {
  "kernelspec": {
   "display_name": "Python 3",
   "language": "python",
   "name": "python3"
  },
  "language_info": {
   "codemirror_mode": {
    "name": "ipython",
    "version": 3
   },
   "file_extension": ".py",
   "mimetype": "text/x-python",
   "name": "python",
   "nbconvert_exporter": "python",
   "pygments_lexer": "ipython3",
   "version": "3.11.9"
  }
 },
 "nbformat": 4,
 "nbformat_minor": 4
}
