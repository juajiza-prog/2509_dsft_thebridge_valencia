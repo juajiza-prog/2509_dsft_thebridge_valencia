{
 "cells": [
  {
   "cell_type": "markdown",
   "metadata": {},
   "source": [
    "![imagen](img/python.jpg)"
   ]
  },
  {
   "cell_type": "markdown",
   "metadata": {},
   "source": [
    "### Antes que nada\n",
    "\n",
    "Para quienes no hayan hecho el fundamental o se hayan quedado cortos.\n",
    "\n",
    "[Que es un algoritmo](https://youtu.be/swpAfyZFt-8?si=PG2YO-JwuU52n7iC)  \n",
    "[Libro de python](https://ellibrodepython.com/)  \n",
    "[Roadmap](https://roadmap.sh/ai-data-scientist)  \n",
    "[CodeDex](https://www.codedex.io/)  \n",
    "[Codewars](https://github.com/mrborjabarber/ds-cheatsheets)  \n",
    "[Cheatsheets](https://github.com/JoseRZapata/ds-cheatsheets)  \n",
    "[Stackoverflow](https://stackoverflow.com/)\n",
    "\n",
    "\n",
    "\n"
   ]
  },
  {
   "cell_type": "markdown",
   "metadata": {},
   "source": [
    "# Python Basics I\n",
    "\n",
    "\n",
    "Bienvenido a tu primer asalto con Python. En este notebook encontrarás los primeros pasos para empezar a familiarizarte con este lenguaje.\n",
    "\n",
    "1. **¿Qué es Python?**\n",
    "Python es un lenguaje de programación de alto nivel, interpretado y fácil de aprender. Es conocido por su sintaxis clara y legible, lo que lo hace perfecto para principiantes.  \n",
    "  \n",
    "2. **Instalación**\n",
    "Para usar Python, necesitas instalarlo desde python.org. También puedes usar editores online como Replit o Google Colab para practicar sin instalar nada."
   ]
  },
  {
   "cell_type": "code",
   "execution_count": null,
   "metadata": {},
   "outputs": [],
   "source": [
    "#hola mundo "
   ]
  },
  {
   "cell_type": "markdown",
   "metadata": {},
   "source": [
    "`print` sirve para ver el output de la celda"
   ]
  },
  {
   "cell_type": "code",
   "execution_count": null,
   "metadata": {},
   "outputs": [],
   "source": []
  },
  {
   "cell_type": "markdown",
   "metadata": {},
   "source": [
    "## Variables\n",
    "Empezamos nuestra aventura en Python declarando variables. ¿Qué es esto y para qué sirve? Simplemente es una manera de etiquetar los datos del programa. Empezaremos declarando variables muy simples, como números y texto, pero acabaremos implementando estructuras más complejas.  \n",
    "\n",
    "Las variables almacenan datos. son como cajas \n",
    "En Python no necesitas declarar el tipo:\n",
    "\n",
    "En Python no necesitas declarar el tipo de las variables porque es un lenguaje de tipado dinámico.  \n",
    "Esto significa que el intérprete detecta automáticamente el tipo de dato en el momento de la asignación, según el valor que le des a la variable.  \n",
    "\n",
    "\n"
   ]
  },
  {
   "cell_type": "code",
   "execution_count": null,
   "metadata": {},
   "outputs": [],
   "source": [
    "# ingresos y gastos \n",
    "\n",
    "\n",
    "\n"
   ]
  },
  {
   "cell_type": "code",
   "execution_count": null,
   "metadata": {},
   "outputs": [],
   "source": [
    "#print\n"
   ]
  },
  {
   "cell_type": "code",
   "execution_count": null,
   "metadata": {},
   "outputs": [],
   "source": []
  },
  {
   "cell_type": "markdown",
   "metadata": {},
   "source": [
    "**Esto es una asignación**. A la palabra *ingresos*, le asignamos un valor mediante `=`.\n",
    "Si queremos ver el valor de la variable, simplemente escribimos su nombre en una celda."
   ]
  },
  {
   "cell_type": "code",
   "execution_count": null,
   "metadata": {},
   "outputs": [],
   "source": [
    "ingresos"
   ]
  },
  {
   "cell_type": "markdown",
   "metadata": {},
   "source": [
    "Python lee y ejecuta el código de forma descendente, es decir, de arriba hacia abajo."
   ]
  },
  {
   "cell_type": "code",
   "execution_count": null,
   "metadata": {},
   "outputs": [],
   "source": [
    "#ingresos\n",
    "#gastos \n",
    "\n"
   ]
  },
  {
   "cell_type": "markdown",
   "metadata": {},
   "source": [
    "Python es un lenguaje dinámico, por lo que siempre podremos actualizar los valores de las variables.\n",
    "Se recomienda usar nombres descriptivos para declarar las variables, pero no excesivamente largos, así evitamos sobreescribirlas sin querer.\n",
    "Además, recuerda que Python lee y ejecuta el código de forma descendente, es decir, de arriba hacia abajo."
   ]
  },
  {
   "cell_type": "code",
   "execution_count": null,
   "metadata": {},
   "outputs": [],
   "source": [
    "# misma variable sobreescrita \n",
    "\n"
   ]
  },
  {
   "cell_type": "markdown",
   "metadata": {},
   "source": [
    "Reasignamos valor a gastos"
   ]
  },
  {
   "cell_type": "code",
   "execution_count": null,
   "metadata": {},
   "outputs": [],
   "source": []
  },
  {
   "cell_type": "markdown",
   "metadata": {},
   "source": [
    "\n",
    "\n",
    "Ahora la variable gastos vale 200. Si la última línea de una celda es una variable, su valor será el *output* de la celda: 200.\n",
    "\n",
    "Vale, ¿y de qué nos sirve guardar variables?\n",
    "\n",
    "Podremos usar estos datos posteriormente, en otro lugar del programa. Por ejemplo, si ahora en una celda nueva queremos obtener el beneficio, simplemente restamos los nombres de las variables"
   ]
  },
  {
   "cell_type": "code",
   "execution_count": null,
   "metadata": {},
   "outputs": [],
   "source": [
    "# ingresos - gastos "
   ]
  },
  {
   "cell_type": "markdown",
   "metadata": {},
   "source": [
    "### Tipos de Datos "
   ]
  },
  {
   "cell_type": "code",
   "execution_count": null,
   "metadata": {},
   "outputs": [],
   "source": [
    "#Enteros (int): \n",
    "\n"
   ]
  },
  {
   "cell_type": "code",
   "execution_count": null,
   "metadata": {},
   "outputs": [],
   "source": [
    "#Decimales (float): \n"
   ]
  },
  {
   "cell_type": "code",
   "execution_count": null,
   "metadata": {},
   "outputs": [],
   "source": [
    "#Cadenas de texto (str):\n"
   ]
  },
  {
   "cell_type": "code",
   "execution_count": null,
   "metadata": {},
   "outputs": [],
   "source": [
    "#Booleanos (bool):\n",
    "\n"
   ]
  },
  {
   "cell_type": "markdown",
   "metadata": {},
   "source": [
    "La manera de saber el tipo de una variable es con la sintaxis type(variable)"
   ]
  },
  {
   "cell_type": "code",
   "execution_count": null,
   "metadata": {},
   "outputs": [],
   "source": []
  },
  {
   "cell_type": "markdown",
   "metadata": {},
   "source": [
    "### Conversión de Tipos en Python\n",
    "Como en otros lenguajes, en Python también tenemos la posibilidad de realizar conversiones entre los tipos de datos. Hasta ahora hemos visto pocos, pero cuando descubramos más tipos de datos y objetos, verás que son muy comunes estas transformaciones.\n",
    "\n",
    "Un caso muy habitual es leer un archivo datos numéricos, y que Python interprete los números como caracteres. No es un error, pero posteriormente, cuando hagamos operaciones con nuestros números, tendremos errores, ya que en realidad son cadenas de texto. Si forzamos el cambio a numerico, nos evitaremos futuros problemas.\n",
    "\n",
    "**Mucho cuidado en los cambios de tipos**. Tenemos que estar seguros de lo que hacemos ya que podemos perder información, o lo más probable, puede dar error, al no ser compatible el cambio.\n",
    "\n",
    "Veamos como cambiar los tipos\n",
    "\n",
    "**Para convertir entre tipos, usa el nombre del tipo como función:**\n",
    "\n",
    "- `str()` → convierte cualquier cosa a texto\n",
    "- `int()` → convierte a número entero\n",
    "- `float()` → convierte a número decimal\n",
    "- `bool()` → convierte a True/False  \n",
    "\n",
    "\n",
    "**Tabla de ejemplo:**\n",
    "  \n",
    "\n",
    "| **Función** | **Convierte a** | **Ejemplo** | **Resultado** | **Tipo resultado** |\n",
    "|-------------|-----------------|-------------|---------------|-------------------|\n",
    "| `str()`     | Texto           | `str(42)`   | `\"42\"`        | `<class 'str'>`   |\n",
    "| `int()`     | Entero          | `int(\"25\")` | `25`          | `<class 'int'>`   |\n",
    "| `float()`   | Decimal         | `float(\"3.14\")` | `3.14`    | `<class 'float'>` |\n",
    "| `bool()`    | True/False      | `bool(1)`   | `True`        | `<class 'bool'>`  |\n",
    "\n",
    "\n"
   ]
  },
  {
   "cell_type": "code",
   "execution_count": null,
   "metadata": {},
   "outputs": [],
   "source": [
    "#Ej de decimal a entero \n",
    "\n",
    "\n"
   ]
  },
  {
   "cell_type": "markdown",
   "metadata": {},
   "source": [
    "**NOTA**: si lo que queremos es redondear, podemos usar la función `round()`"
   ]
  },
  {
   "cell_type": "code",
   "execution_count": null,
   "metadata": {},
   "outputs": [],
   "source": [
    "#Ej pi 3.14\n",
    "\n"
   ]
  },
  {
   "cell_type": "markdown",
   "metadata": {},
   "source": [
    "Para pasar de un **numero a string**, no hay problema"
   ]
  },
  {
   "cell_type": "code",
   "execution_count": null,
   "metadata": {},
   "outputs": [],
   "source": []
  },
  {
   "cell_type": "markdown",
   "metadata": {},
   "source": [
    "De **String a un número** tampoco suele haber problema. Hay que tener mucho cuidado con los puntos de los decimales. **Puntos, NO comas**"
   ]
  },
  {
   "cell_type": "code",
   "execution_count": null,
   "metadata": {},
   "outputs": [],
   "source": []
  },
  {
   "cell_type": "markdown",
   "metadata": {},
   "source": [
    "Pasar de **numero a boleano y viceversa**, tambien es bastante sencillo. Simplemente ten en cuenta que los 0s son `False`, y el resto de numeros equivalen a un `True`"
   ]
  },
  {
   "cell_type": "code",
   "execution_count": null,
   "metadata": {},
   "outputs": [],
   "source": [
    "#print(bool(1))\n",
    "#print(bool(0)) \n",
    "\n",
    "#print(int(True))\n",
    "#print(int(False)) "
   ]
  },
  {
   "cell_type": "markdown",
   "metadata": {},
   "source": [
    "En el caso de transformar **String a booleano**, los strings vacíos serán `False`, mientras que los que tengan cualquier cadena, equivaldrán a `True`.\n",
    "\n",
    "Sin embargo, si la operación es la inversa, el booleano `True` pasará a valer una cadena de texto como `True`, y para `False` lo mismo."
   ]
  },
  {
   "cell_type": "code",
   "execution_count": null,
   "metadata": {},
   "outputs": [],
   "source": [
    "print(bool(\"\"))\n",
    "print(bool(\"bdskajsnlkd\"))\n",
    "\n"
   ]
  },
  {
   "cell_type": "code",
   "execution_count": null,
   "metadata": {},
   "outputs": [],
   "source": [
    "verdadero = True\n",
    "print(type(verdadero))\n",
    "print(str(verdadero))\n",
    "print(type(str(verdadero)))"
   ]
  },
  {
   "cell_type": "code",
   "execution_count": null,
   "metadata": {},
   "outputs": [],
   "source": []
  },
  {
   "cell_type": "markdown",
   "metadata": {},
   "source": [
    "---"
   ]
  },
  {
   "cell_type": "markdown",
   "metadata": {},
   "source": [
    "Si has programado en otros lenguajes (ej: Js), te llamará la atención que en Python no hay que especificar los tipos de los datos cuando declaramos una variable. No tenemos que decirle a Python que *ingresos* es un valor numerico o que *ingresos_texto* es una cadena de texto. Python lo interpreta y sabe qué tipo de datos son. Cada variable tiene su tipo de datos ya que **Python es un lenguaje fuertemente tipado**.\n",
    "\n",
    "### Que significa:\n",
    "\n",
    "- **Fuertemente tipado** = Python es estricto, no hace \"magia\" automática\n",
    "- **Tú tienes control** = Decides exactamente qué conversión quieres\n",
    "- **Evita errores** = No hay sorpresas raras como en otros lenguajes\n",
    "\n",
    "**Ventaja:** Tu código es más predecible y seguro"
   ]
  },
  {
   "cell_type": "markdown",
   "metadata": {},
   "source": [
    "---"
   ]
  },
  {
   "cell_type": "markdown",
   "metadata": {},
   "source": [
    "##  Tipos de los datos\n",
    "Python es un lenguaje fuertemente tipado. Eso significa que las variables que usamos pertenecen a un tipo de datos: numero entero (int), decimal (float), texto (String), u otro tipo de objetos.\n",
    "\n",
    "**¿Por qué es importante saber bien de que tipos son los datos?** Porque cada tipo de dato tiene una serie propiedades y operaciones asociadas. Por ejemplo, a un texto no lo puedo sumar 5. Por lo que cuando vayamos a hacer operaciones entre ellos, tenemos que asegurarnos de que son del mismo tipo para que el resultado sea el esperado. `texto + 5` no tiene sentido y va a dar error. Parece obvio, pero hay ocasiones en las que los tipos de los datos no son los esperados.\n",
    "\n",
    "\n",
    "* **Numérico**: tenemos `int`, `float` y `complex`. Dependiendo de si es un numero entero, uno decimal o un complejo.\n",
    "* **String**: o Cadena. Cadena de texto plano\n",
    "* **Booleano**: o Lógico. `True`/`False`\n"
   ]
  },
  {
   "cell_type": "markdown",
   "metadata": {},
   "source": [
    " ### Numericos \n",
    " "
   ]
  },
  {
   "cell_type": "code",
   "execution_count": null,
   "metadata": {},
   "outputs": [],
   "source": [
    "numero = 22\n",
    "type(numero)"
   ]
  },
  {
   "cell_type": "markdown",
   "metadata": {},
   "source": [
    "Bien, es un ***int***, un número entero. Si lo que quiero es un numero decimal, es decir, que tenga decimales, le añado un punto"
   ]
  },
  {
   "cell_type": "code",
   "execution_count": null,
   "metadata": {},
   "outputs": [],
   "source": [
    "#22.50"
   ]
  },
  {
   "cell_type": "markdown",
   "metadata": {},
   "source": [
    "Aunque no le haya añadido decimales como tal, ya le estoy diciendo a Python que esta variable es un numero decimal (***float***)."
   ]
  },
  {
   "cell_type": "code",
   "execution_count": null,
   "metadata": {},
   "outputs": [],
   "source": [
    "#22.0 \n"
   ]
  },
  {
   "cell_type": "markdown",
   "metadata": {},
   "source": [
    "Algunas operaciones básicas que podemos hacer con los numeros:\n",
    "* Sumar: `+`\n",
    "* Restar: `-`\n",
    "* Multiplicar: `*`\n",
    "* Dividir: `/`\n",
    "* Elevar: `**`\n",
    "* Cociente division: `//`\n",
    "* Resto de la división: `%`"
   ]
  },
  {
   "cell_type": "markdown",
   "metadata": {},
   "source": []
  },
  {
   "cell_type": "code",
   "execution_count": null,
   "metadata": {},
   "outputs": [],
   "source": [
    "#podemos hacerlas directamente sobre print\n",
    "\n",
    "print(\"Sumas y restas\")\n",
    "print(1 + 2)\n",
    "print(1.0 + 2)\n",
    "print(1.0 - 2)\n",
    "\n",
    "print(\"-\"*100)\n",
    "\n",
    "print(\"Mult/Div\")\n",
    "print(2*2)\n",
    "print(2.0*2)\n",
    "print(2/2)\n",
    "\n",
    "print(\"-\"*100)\n",
    "\n",
    "print(\"Resto division\")\n",
    "print(11/3)\n",
    "print(int(11/3))\n",
    "print(11 % 3)\n",
    "print(11 // 3)\n",
    "\n",
    "print(\"-\"*100)\n",
    "\n",
    "print(\"Elevar\")\n",
    "print(2**3)"
   ]
  },
  {
   "cell_type": "markdown",
   "metadata": {},
   "source": [
    "<table align=\"left\">\n",
    " <tr><td width=\"80\"><img src=\"img/ejercicio.png\" style=\"width:auto;height:auto\"></td>\n",
    "     <td style=\"text-align:center\">\n",
    "         <h3>Ejercicio variables</h3>\n",
    "\n",
    "      \n",
    "<ol> Calcula para x = 3\n",
    "\n",
    "1. $$1+x^2$$\n",
    "2. $$(1+x)*2$$\n",
    "3. $$(1+x)^2$$\n",
    "</ol>\n",
    "         \n",
    " </td></tr>\n",
    "</table>"
   ]
  },
  {
   "cell_type": "code",
   "execution_count": null,
   "metadata": {},
   "outputs": [
    {
     "name": "stdout",
     "output_type": "stream",
     "text": [
      "<class 'int'>\n",
      "10\n",
      "8\n",
      "16\n"
     ]
    }
   ],
   "source": [
    "### resuelvo 1\n",
    "x=3\n",
    "print (type(x))\n",
    "y= (1+x**2)\n",
    "print (y)\n",
    "### resuelvo 2\n",
    "z=(1+x)*2\n",
    "print (z)\n",
    "### resuelvo 3\n",
    "h= (1+x)**2\n",
    "print(h)"
   ]
  },
  {
   "cell_type": "markdown",
   "metadata": {},
   "source": [
    "### Cadenas de texto\n",
    "Las cadenas de texto se declaran con comillas simples o dobles"
   ]
  },
  {
   "cell_type": "code",
   "execution_count": null,
   "metadata": {},
   "outputs": [],
   "source": [
    "# simples "
   ]
  },
  {
   "cell_type": "code",
   "execution_count": null,
   "metadata": {},
   "outputs": [],
   "source": [
    "# dobles "
   ]
  },
  {
   "cell_type": "markdown",
   "metadata": {},
   "source": [
    "Si da la casualidad de que en el texto hay comillas, tenemos la posibilidad de que Python las interprete como parte del texto y no como comando de inicio/cierre de String.  \n",
    "Para eso tenemos que intercambiar las comillas."
   ]
  },
  {
   "cell_type": "code",
   "execution_count": null,
   "metadata": {},
   "outputs": [],
   "source": [
    "#Si estamos usando comillas simples '' usaremos doble para entrecomillar \"\"\n",
    "\n",
    "print(\"String con 'simples'\")\n",
    "print('String con \"simples\"')\n",
    "\n",
    "\n"
   ]
  },
  {
   "cell_type": "markdown",
   "metadata": {},
   "source": [
    "En Python, también es posible entrecomillar un texto utilizando `\\\"`.\n"
   ]
  },
  {
   "cell_type": "code",
   "execution_count": null,
   "metadata": {},
   "outputs": [],
   "source": [
    "# \" a \\\" b \\\" \"\n",
    "\n",
    "#ingresos = \"los ingresos\\\"han sido\\\" altos \"\n",
    "#print(ingresos)"
   ]
  },
  {
   "cell_type": "markdown",
   "metadata": {},
   "source": [
    "En ocasiones queremos poner saltos de línea o tabulaciones en los prints, o simplemente en una variable de tipo String. Para ello usamos los [*escape characters*](https://www.w3schools.com/python/gloss_python_escape_characters.asp) como `\\n` para saltos de línea o `\\t` para tabulaciones."
   ]
  },
  {
   "cell_type": "code",
   "execution_count": null,
   "metadata": {},
   "outputs": [],
   "source": [
    "# variable + \"Primera linea\\nSegunda linea\\n\\tTercera linea\"\n",
    "\n",
    "\n",
    "\n",
    "\n"
   ]
  },
  {
   "cell_type": "markdown",
   "metadata": {},
   "source": [
    "### Operaciones con texto"
   ]
  },
  {
   "cell_type": "markdown",
   "metadata": {},
   "source": [
    "Para unir dos variables de tipo String, simplemente usamos el `+` "
   ]
  },
  {
   "cell_type": "code",
   "execution_count": null,
   "metadata": {},
   "outputs": [],
   "source": [
    "#Manera erronea (espacio cuenta) hay que ahorrar\n",
    "\n",
    "nombre = \"Bon\"\n",
    "apellido = \"Scott\"\n",
    "espacio_blanco = \" \"\n",
    "\n",
    "nombre_apellido = nombre + espacio_blanco + apellido\n",
    "print(nombre_apellido) "
   ]
  },
  {
   "cell_type": "code",
   "execution_count": null,
   "metadata": {},
   "outputs": [],
   "source": [
    "#len(espacio_blanco)\n",
    "#len(nombre)\n",
    "#len(\"\")"
   ]
  },
  {
   "cell_type": "code",
   "execution_count": null,
   "metadata": {},
   "outputs": [],
   "source": [
    "#\"Hola\" + \" \" + \"mundo\" \n",
    "\n"
   ]
  },
  {
   "cell_type": "markdown",
   "metadata": {},
   "source": [
    "También podemos multiplicar una palabra "
   ]
  },
  {
   "cell_type": "code",
   "execution_count": null,
   "metadata": {},
   "outputs": [],
   "source": [
    "#\"str\" * int\n",
    "\n"
   ]
  },
  {
   "cell_type": "markdown",
   "metadata": {},
   "source": [
    "La función len() se utiliza para obtener la longitud de un objeto. Aunque la explicaremos más adelante, es útil en este caso para conocer la longitud de un str."
   ]
  },
  {
   "cell_type": "code",
   "execution_count": null,
   "metadata": {},
   "outputs": [],
   "source": [
    "#Len()\n",
    "\n",
    "\n"
   ]
  },
  {
   "cell_type": "markdown",
   "metadata": {},
   "source": [
    "<table align=\"left\">\n",
    " <tr><td width=\"80\"><img src=\"img/error.png\" style=\"width:auto;height:auto\"></td>\n",
    "     <td style=\"text-align:left\">\n",
    "         <h3>ERRORES en variables</h3>\n",
    "         \n",
    " </td></tr>\n",
    "</table>"
   ]
  },
  {
   "cell_type": "markdown",
   "metadata": {},
   "source": [
    "### Escribir mal el nombre\n",
    "Un error típico cuando declaramos variables es **escribir su nombre mal, o llamar despues a la variable de forma errónea**. En tal caso, aparece un `NameError: name 'variable_que_no_existe' is not defined`"
   ]
  },
  {
   "cell_type": "code",
   "execution_count": null,
   "metadata": {},
   "outputs": [],
   "source": [
    "gstos"
   ]
  },
  {
   "cell_type": "markdown",
   "metadata": {},
   "source": [
    "Fíjate que te indica la línea donde se produce el error, el tipo de error (`NameError`), y una breve descripción del error."
   ]
  },
  {
   "cell_type": "code",
   "execution_count": null,
   "metadata": {},
   "outputs": [],
   "source": [
    "print(adios)\n",
    "adios = \"Adios mundo\""
   ]
  },
  {
   "cell_type": "code",
   "execution_count": null,
   "metadata": {},
   "outputs": [],
   "source": [
    "print(hola)"
   ]
  },
  {
   "cell_type": "markdown",
   "metadata": {},
   "source": [
    "### Cerrar bien los strings\n",
    "Cuidado tambien cuando definamos una cadena de texto, y se nos olvide cerrarla con sus correspondientes comillas. Nos dará un `SyntaxError: EOL while scanning string literal` (End Of Line)"
   ]
  },
  {
   "cell_type": "code",
   "execution_count": null,
   "metadata": {},
   "outputs": [],
   "source": [
    "texto = \"Error sin comillas"
   ]
  },
  {
   "cell_type": "markdown",
   "metadata": {},
   "source": [
    "### Prohibido espacios en los nombres de las variables\n",
    "También dará error si tenemos un espacio en la declaración de la variable. Se recomienda mínusculas y guiones bajos para simular los espacios.\n",
    "\n",
    "**Los espacios que encuentres alrededor del igual se pueden usar perfectamente**. Es pura estética a la hora de leer el código."
   ]
  },
  {
   "cell_type": "code",
   "execution_count": null,
   "metadata": {},
   "outputs": [],
   "source": [
    "new var = \"variable\""
   ]
  },
  {
   "cell_type": "code",
   "execution_count": null,
   "metadata": {},
   "outputs": [],
   "source": [
    "new_var = \"variable\""
   ]
  },
  {
   "cell_type": "markdown",
   "metadata": {},
   "source": [
    "### Números en el nombre de la variable\n",
    "Ojo con los números cuando declaremos variables. En ocasiones es determinante describir nuestra variable con algún número. En tal caso, ponlo siempre al final del nombre de la variable, ya que sino saltará un error."
   ]
  },
  {
   "cell_type": "code",
   "execution_count": null,
   "metadata": {},
   "outputs": [],
   "source": [
    "ingresos_2009 = 900\n",
    "ingresos_2009"
   ]
  },
  {
   "cell_type": "code",
   "execution_count": null,
   "metadata": {},
   "outputs": [],
   "source": [
    "2009_ingresos"
   ]
  },
  {
   "cell_type": "markdown",
   "metadata": {},
   "source": [
    "### Sensible a mayusculas\n",
    "Mucho cuidado con las mayusculas y minusculas porque Python no las ignora. Si todas las letras de una variable están en mayusculas, tendremos que usarla en mayusculas, sino dará un error de que no encuentra la variable."
   ]
  },
  {
   "cell_type": "code",
   "execution_count": null,
   "metadata": {},
   "outputs": [],
   "source": [
    "ingresos_2009 = 900\n",
    "ingresos_2009"
   ]
  },
  {
   "cell_type": "code",
   "execution_count": null,
   "metadata": {},
   "outputs": [],
   "source": [
    "Ingresos_2009 = 200"
   ]
  },
  {
   "cell_type": "code",
   "execution_count": null,
   "metadata": {},
   "outputs": [],
   "source": [
    "print(ingresos_2009)\n",
    "print(Ingresos_2009)"
   ]
  },
  {
   "cell_type": "markdown",
   "metadata": {},
   "source": [
    "### Palabras reservadas\n",
    "En Python, como en otros lenguajes, hay una serie de palabras reservadas que tienen un significado para el intérprete de Python y por lo tanto no podemos usar para ponerle nombre a nuestras variables.\n",
    "\n",
    "Por ejemplo, `def` se usa para definir funciones en Python (lo veremos en otros notebooks), por lo que no podemos emplear `def` para nombrar a nuestras variables"
   ]
  },
  {
   "cell_type": "code",
   "execution_count": null,
   "metadata": {},
   "outputs": [],
   "source": [
    "#def"
   ]
  },
  {
   "cell_type": "markdown",
   "metadata": {},
   "source": [
    "Consulta la lista de palabras reservadas de Python"
   ]
  },
  {
   "cell_type": "code",
   "execution_count": null,
   "metadata": {},
   "outputs": [],
   "source": [
    "import keyword\n",
    "print(keyword.kwlist)"
   ]
  },
  {
   "cell_type": "code",
   "execution_count": null,
   "metadata": {},
   "outputs": [],
   "source": [
    "help(\"keywords\")"
   ]
  },
  {
   "cell_type": "markdown",
   "metadata": {},
   "source": [
    "### Resumen variables\n",
    "En resumen:\n",
    "* Usar minusculas. Sensible a mayusculas/minusculas\n",
    "* No usar espacios\n",
    "* No usar palabras reservadas\n",
    "* No usar numeros al principio de la variable\n",
    "* Cuidado con los caracteres `l`, `1`, `O`, `0`"
   ]
  },
  {
   "cell_type": "markdown",
   "metadata": {},
   "source": [
    "<table align=\"left\">\n",
    " <tr><td width=\"80\"><img src=\"img/ejercicio.png\" style=\"width:auto;height:auto\"></td>\n",
    "     <td style=\"text-align:left\">\n",
    "         <h3>Ejercicio variables</h3>\n",
    "\n",
    "      \n",
    "<ol>\n",
    "    <li>Almacena tu nombre y tus apellidos en dos variables diferentes. </li>\n",
    "    <li>Guarda tu edad en otra variable</li>\n",
    "    <li>Modifica la variable de tu edad</li>\n",
    "    <li>Comprueba que todas las variables tienen los valores que les corresponde</li>\n",
    "    <li>Haz un print por pantalla presentándote haciendo uso de las variables.</li>\n",
    "</ol>\n",
    "         \n",
    " </td></tr>\n",
    "</table>"
   ]
  },
  {
   "cell_type": "code",
   "execution_count": 5,
   "metadata": {},
   "outputs": [
    {
     "name": "stdout",
     "output_type": "stream",
     "text": [
      "Juan\n",
      "Jimenez\n",
      "47\n",
      "Hola soy Juan Jimenez y tengo 47 años\n",
      "<class 'str'> <class 'str'> <class 'int'>\n"
     ]
    }
   ],
   "source": [
    "nom1 = \"Juan\"\n",
    "nom2 = \"Jimenez\"\n",
    "edad = 46\n",
    "edad = 47\n",
    "print(nom1)\n",
    "print(nom2)\n",
    "print(edad)\n",
    "print(\"Hola soy\", nom1+\" \"+nom2,\"y tengo\", edad, \"años\")\n",
    "print (type(nom1), type(nom2), type (edad))"
   ]
  },
  {
   "cell_type": "code",
   "execution_count": 11,
   "metadata": {},
   "outputs": [
    {
     "name": "stdout",
     "output_type": "stream",
     "text": [
      "Hola me llamo Juan Jimenez y tengo 47 años\n"
     ]
    }
   ],
   "source": [
    "presentacion_f = f\"Hola me llamo {nom1} { nom2} y tengo {edad} años\"\n",
    "print (presentacion_f)"
   ]
  },
  {
   "cell_type": "markdown",
   "metadata": {},
   "source": [
    "## 2. Print"
   ]
  },
  {
   "cell_type": "markdown",
   "metadata": {},
   "source": [
    "Hasta ahora hemos visto en Jupyter dos tipos de celdas:\n",
    "* **Markdown**: básicamente texto para las explicaciones\n",
    "* **Código**: donde insertamos el código Python y lo ejecutamos\n",
    "\n",
    "Las celdas de código, no solo corren el código y realizan todas las operaciones que le indiquemos, sino que también tienen un output, una salida de ese código. Tenemos dos opciones para ver el output del código, o bien mediante `print`, o poniendo una variable al final de la celda. En este último caso, veremos el valor de esa variable"
   ]
  },
  {
   "cell_type": "code",
   "execution_count": null,
   "metadata": {},
   "outputs": [],
   "source": [
    "#print\n",
    "\n"
   ]
  },
  {
   "cell_type": "markdown",
   "metadata": {},
   "source": [
    "Si hacemos un print de un texto, podemos concatenar valores de variables mediante `%s`."
   ]
  },
  {
   "cell_type": "code",
   "execution_count": null,
   "metadata": {},
   "outputs": [],
   "source": [
    "#recordamos variables \n",
    "\n",
    "#beneficio = 200\n",
    "#mes = \"septiembre\""
   ]
  },
  {
   "cell_type": "code",
   "execution_count": null,
   "metadata": {},
   "outputs": [],
   "source": [
    "print(\"Los beneficios de %s han sido de %s millones\" % (\"septiembre\", beneficio))\n",
    "print(f\"Los beneficios de {mes} han sido de {beneficio} millones\")\n",
    "print(\"Los beneficios de\", \"septiembre\", \"han sido de\" ,beneficio, \"millones\")"
   ]
  },
  {
   "cell_type": "code",
   "execution_count": null,
   "metadata": {},
   "outputs": [],
   "source": [
    "print(\"de \" + beneficio + \" millones\")"
   ]
  },
  {
   "cell_type": "code",
   "execution_count": null,
   "metadata": {},
   "outputs": [],
   "source": [
    "print(\"de \" + str(beneficio) + \" millones\")"
   ]
  },
  {
   "cell_type": "markdown",
   "metadata": {},
   "source": [
    "Otra opcion si queremos imprimir por pantalla varios strings, es separandolos por comas en el `print`. Fíjate que le añade espacios en la salida cada vez que ponemos un valor nuevo entre comas."
   ]
  },
  {
   "cell_type": "code",
   "execution_count": null,
   "metadata": {},
   "outputs": [],
   "source": [
    "#Los beneficios de\", mes, \"han sido de\", beneficio, \"millones\"\n"
   ]
  },
  {
   "cell_type": "code",
   "execution_count": null,
   "metadata": {},
   "outputs": [],
   "source": [
    "#f-string \n"
   ]
  },
  {
   "cell_type": "code",
   "execution_count": null,
   "metadata": {},
   "outputs": [],
   "source": [
    "\n",
    "\n"
   ]
  },
  {
   "cell_type": "markdown",
   "metadata": {},
   "source": [
    "## 3. Comentarios\n",
    "Se trata de texto que va junto con el código, y que el intérprete de Python ignora por completo. Muy útil para documentar y explicar el código"
   ]
  },
  {
   "cell_type": "code",
   "execution_count": null,
   "metadata": {},
   "outputs": [],
   "source": [
    "#normal y google ''' x ''' \n",
    "\n"
   ]
  },
  {
   "cell_type": "markdown",
   "metadata": {},
   "source": [
    "**IMPORTATE**. SIEMPRE comentar el código. Nunca sabes quén lo puede heredar. Te dejo en [este link](https://realpython.com/python-comments-guide/) una guía interesante sobre cómo comentar tu código."
   ]
  },
  {
   "cell_type": "markdown",
   "metadata": {},
   "source": [
    "## 4. Flujos de ejecución\n",
    "Los programas de Python se ejecutan secuencialmente, por lo que el orden en el que escribas las operaciones es determinante"
   ]
  },
  {
   "cell_type": "code",
   "execution_count": null,
   "metadata": {},
   "outputs": [],
   "source": [
    "#error\n",
    "ventas_jun_jul = ventas_junio + ventas_julio\n",
    "\n",
    "ventas_junio = 100\n",
    "ventas_julio = 150"
   ]
  },
  {
   "cell_type": "code",
   "execution_count": null,
   "metadata": {},
   "outputs": [],
   "source": [
    "\n",
    "ventas_junio"
   ]
  },
  {
   "cell_type": "code",
   "execution_count": null,
   "metadata": {},
   "outputs": [],
   "source": [
    "#buena practica (al reves)\n"
   ]
  },
  {
   "cell_type": "markdown",
   "metadata": {},
   "source": [
    "**Da error**, primero tenemos que declarar las ventas, y luego sumarlas.\n",
    "\n",
    "**¿Cuándo acaba una línea de código?**. El salto de línea lo interpreta Python como una nueva instrucción. En muchos lengujes, como Java hay que especificar el fin de la sentencia de código mediante `;`. En Python no es necesario, aunque se puede usar igualmente."
   ]
  },
  {
   "cell_type": "code",
   "execution_count": null,
   "metadata": {},
   "outputs": [],
   "source": [
    "dinerito = 3.5\n",
    "print(dinerito)\n",
    "print(type(dinerito))"
   ]
  },
  {
   "cell_type": "markdown",
   "metadata": {},
   "source": [
    " , y ; para separar"
   ]
  },
  {
   "cell_type": "code",
   "execution_count": null,
   "metadata": {},
   "outputs": [],
   "source": [
    "#cuidado con las , \n",
    "dinerito, otra_variable = 3,5\n",
    "print(dinerito)\n",
    "print(type(dinerito))"
   ]
  },
  {
   "cell_type": "code",
   "execution_count": null,
   "metadata": {},
   "outputs": [],
   "source": [
    "altura = 1.80; peso = 75 # ; para separar \n",
    "# altura, peso = 1.8,75\n",
    "# altura = 1.8\n",
    "# peso = 75\n",
    "print(altura)\n",
    "\n",
    "x, y, z = 1, 2, 3 # , para separar \n",
    "print(z)"
   ]
  },
  {
   "cell_type": "code",
   "execution_count": null,
   "metadata": {},
   "outputs": [],
   "source": [
    "x = 1\n",
    "y = 2\n",
    "z = 3"
   ]
  },
  {
   "cell_type": "code",
   "execution_count": null,
   "metadata": {},
   "outputs": [],
   "source": [
    "x = 1; y = 2; z = 3"
   ]
  },
  {
   "cell_type": "markdown",
   "metadata": {},
   "source": [
    "##  Del\n",
    "Es la sentencia que usaremos para borrar una variable. La verdad, no se suelen borrar variables. Vamos desarrollando los programas de Python sin preocuparnos de limpiar aquellas variables que no usamos. Normalmente no borrarlas no suele ser un problema, pero cuando manejamos un gran volumen de datos, podemos sufrir problemas de rendimiento ya que **las variables ocupan memoria**.\n",
    "\n",
    "Cuando las variables son las que hemos visto hasta ahora, no pasa nada, pero si son más pesadas, como por ejemplo datasets de imágenes que ocupan mucho, sí va a venir bien eliminar aquellas que no usemos."
   ]
  },
  {
   "cell_type": "code",
   "execution_count": null,
   "metadata": {},
   "outputs": [],
   "source": [
    "# del variable"
   ]
  },
  {
   "cell_type": "markdown",
   "metadata": {},
   "source": [
    "### Booleano\n",
    "Por último, el cuarto tipo de datos basiquísimo es el *booleano*: `True`/`False`. Para que Python reconoza este tipo de datos, hay que escribirlos con la primera letra en mayúscula"
   ]
  },
  {
   "cell_type": "code",
   "execution_count": null,
   "metadata": {},
   "outputs": [],
   "source": [
    "#ya se pyton False\n"
   ]
  },
  {
   "cell_type": "code",
   "execution_count": null,
   "metadata": {},
   "outputs": [],
   "source": [
    "#cond_1 = variable >= 15\n",
    "\n",
    "\n",
    "\n",
    "\n"
   ]
  },
  {
   "cell_type": "markdown",
   "metadata": {},
   "source": [
    "<table align=\"left\">\n",
    " <tr><td width=\"80\"><img src=\"img/ejercicio.png\" style=\"width:auto;height:auto\"></td>\n",
    "     <td style=\"text-align:left\">\n",
    "         <h3>Ejercicio tipos de datos</h3>\n",
    "\n",
    "      \n",
    "<ol>\n",
    "    <li>Crea una variable de tipo String en la que se incluyan unas comillas dobles </li>\n",
    "    <li>Comprueba su tipo</li>\n",
    "    <li>Crea otro string guardándolo en otra variable, y prueba a sumarlos</li>\n",
    "    <li>Ahora declara una variable entera. Imprímela por pantalla</li>\n",
    "    <li>Cambia el tipo de la variable entera a float. Imprime por pantalla tanto la nueva variable obtenida, como su tipo</li>\n",
    "</ol>\n",
    "         \n",
    " </td></tr>\n",
    "</table>"
   ]
  },
  {
   "cell_type": "code",
   "execution_count": null,
   "metadata": {},
   "outputs": [],
   "source": []
  },
  {
   "cell_type": "code",
   "execution_count": null,
   "metadata": {},
   "outputs": [],
   "source": []
  },
  {
   "cell_type": "markdown",
   "metadata": {},
   "source": [
    "##  Input\n",
    "Esta sentencia se usa en Python para recoger un valor que escriba el usuario del programa. Los programas suelen funcionar de esa manera, reciben un input, realizan operaciones, y acaban sacando un output para el usuario.\n",
    "\n",
    "Por ejemplo, en la siguiente celda recojo un input, que luego podremos usar en celdas posteriores.\n",
    "\n",
    "**CUIDADO**. Si corres una celda con un `input()` el programa se queda esperando a que el usuario meta un valor. Si en el momento en el que está esperando, vuelves a correr la misma celda, se te puede quedar pillado, depende del ordendaor/versión de Jupyter. Si eso ocurre, pincha en la celda y dale despues al botón de stop de arriba, o sino a Kernel -> Restart Kernel..."
   ]
  },
  {
   "cell_type": "code",
   "execution_count": null,
   "metadata": {},
   "outputs": [],
   "source": [
    "primer_input = input()"
   ]
  },
  {
   "cell_type": "code",
   "execution_count": null,
   "metadata": {},
   "outputs": [],
   "source": [
    "print(primer_input)"
   ]
  },
  {
   "cell_type": "code",
   "execution_count": null,
   "metadata": {},
   "outputs": [],
   "source": [
    "print(type(primer_input))"
   ]
  },
  {
   "cell_type": "markdown",
   "metadata": {},
   "source": [
    "Puedes poner ints, floats, strings, lo que quieras recoger en texto plano.\n",
    "\n",
    "Mira que fácil es hacer un chatbot un poco tonto, mediante el que hacemos preguntas al usuario, y almacenamos sus respuestas."
   ]
  },
  {
   "cell_type": "code",
   "execution_count": null,
   "metadata": {},
   "outputs": [],
   "source": [
    "#Chatboot\n"
   ]
  },
  {
   "cell_type": "markdown",
   "metadata": {},
   "source": [
    "<table align=\"left\">\n",
    " <tr><td width=\"80\"><img src=\"img/error.png\" style=\"width:auto;height:auto\"></td>\n",
    "     <td style=\"text-align:left\">\n",
    "         <h3>ERRORES con input</h3>\n",
    "         \n",
    " </td></tr>\n",
    "</table>"
   ]
  },
  {
   "cell_type": "code",
   "execution_count": null,
   "metadata": {},
   "outputs": [],
   "source": [
    "\"\"\"\n",
    "Por defecto, el input del usuario es de tipo texto. Habrá que convertirlo a numerico con int(numero_input)\n",
    "o con float(numero_input). Lo vemos en el siguiente notebook.\n",
    "\"\"\"\n",
    "# num_input = float(input(\"Introduce un numero)\"))\n",
    "num_input = input(\"Introduce un numero)\")\n",
    "print(type(num_input))\n",
    "num_input + 4"
   ]
  },
  {
   "cell_type": "code",
   "execution_count": null,
   "metadata": {},
   "outputs": [],
   "source": [
    "num_input = int(input(\"Introduce un numero\"))\n",
    "\n",
    "num_input + 4"
   ]
  },
  {
   "cell_type": "markdown",
   "metadata": {},
   "source": [
    "<table align=\"left\">\n",
    " <tr><td width=\"80\"><img src=\"img/ejercicio.png\" style=\"width:auto;height:auto\"></td>\n",
    "     <td style=\"text-align:left\">\n",
    "         <h3>Ejercicio input</h3>\n",
    "\n",
    "En este ejemplo vamos a simular un chatbot al que le haremos pedidos de pizzas.\n",
    "<ol>\n",
    "    <li>El chatbot tiene que saludar con un: \"Buenas tardes, bienvenido al servicio de pedido online, ¿Cuántas pizzas desea?\"</li>\n",
    "    <li>El usuario tiene que introducir un número de pizzas en una variable llamada 'pizz'</li>\n",
    "    <li>Respuesta del chatbot: \"Estupendo, se están preparando 'pizz' pizzas. Digame su dirección\"</li>\n",
    "    <li>El usuario tiene que introducir una direccion en formato String en otra variable llamada 'direcc'</li>\n",
    "    <li>Respuesta final del chatbot: \"Le mandaremos las 'pizz' pizzas a la dirección 'direcc'. Muchas gracias por su pedido.\"</li>\n",
    "</ol>\n",
    "         \n",
    " </td></tr>\n",
    "</table>"
   ]
  },
  {
   "cell_type": "code",
   "execution_count": null,
   "metadata": {},
   "outputs": [],
   "source": []
  },
  {
   "cell_type": "markdown",
   "metadata": {},
   "source": [
    "## Bonus: Hay oferta de 3x2. Cada pizza vale 10 euros. En el mensaje final añade el importe a pagar"
   ]
  },
  {
   "cell_type": "code",
   "execution_count": null,
   "metadata": {},
   "outputs": [],
   "source": []
  },
  {
   "cell_type": "markdown",
   "metadata": {},
   "source": [
    "## 9. None\n",
    "Palabra reservada en Python para designar al valor nulo. `None` no es 0, tampoco es un string vacio, ni `False`, simplemente es un tipo de datos más para representar el conjunto vacío."
   ]
  },
  {
   "cell_type": "code",
   "execution_count": null,
   "metadata": {},
   "outputs": [],
   "source": [
    "string = \"\"\n",
    "print(type(string))"
   ]
  },
  {
   "cell_type": "code",
   "execution_count": null,
   "metadata": {},
   "outputs": [],
   "source": [
    "dinero = 0\n",
    "print(type(dinero))"
   ]
  },
  {
   "cell_type": "code",
   "execution_count": null,
   "metadata": {},
   "outputs": [],
   "source": [
    "print(None)\n",
    "print(type(None))"
   ]
  },
  {
   "cell_type": "markdown",
   "metadata": {},
   "source": [
    "## 10. Sintaxis y best practices\n",
    "A la hora de escribir en Python, existen ciertas normas que hay que tener en cuenta:\n",
    "* Todo lo que abras, lo tienes que cerrar: paréntesis, llaves, corchetes...\n",
    "* Los decimales se ponen con puntos `.`\n",
    "* Best practices\n",
    "    * **Caracteres**: NO se recomienda usar Ñs, acentos o caracteres raros (ª,º,@,ç...) en el codigo. Ponerlo únicamente en los comentarios.\n",
    "    * **Espacios**: NO usar espacios en los nombres de las variables ni de las funciones. Se recomienda usar guión bajo para simular el espacio. O también juntar las palabras y usar mayuscula para diferenciarlas `miVariable`. Lo normal es todo minúscula y guiones bajos\n",
    "    * Ahora bien, sí se recomienda usar espacios entre cada comando, para facilitar la lectura, aunque esto ya es más cuestión de gustos. `mi_variable = 36`.\n",
    "    * Se suelen declarar las variables en minuscula.\n",
    "    * Las constantes (variables que no van a cambiar nunca) en mayuscula. `MI_PAIS = \"España\"`\n",
    "    * **Cada sentencia en una linea**. Se puede usar el `;` para declarar varias variables, pero no es lo habitual\n",
    "    * **Comentarios**: TODOS los que se pueda. Nunca sabes cuándo otra persona va a coger tu espectacular código, o si tu *yo* del futuro se acordará de por qué hiciste ese bucle while en vez de un for.\n",
    "    * **Case sensitive**: sensible a mayusculas y minusculas. CUIDADO con esto cuando declaremos variables o usemos Strings\n",
    "    * **Sintaxis de línea**: para una correcta lectura del codigo lo mejor es aplicar sintaxis de línea en la medida de lo posible"
   ]
  },
  {
   "cell_type": "code",
   "execution_count": null,
   "metadata": {},
   "outputs": [],
   "source": [
    "lista_compra = ['Manzanas',\n",
    "                'Galletas',\n",
    "                'Pollo',\n",
    "                'Cereales']"
   ]
  },
  {
   "cell_type": "code",
   "execution_count": null,
   "metadata": {},
   "outputs": [],
   "source": [
    "tupla_compra = ('Manzanas',\n",
    "                'Galletas',\n",
    "                'Pollo',\n",
    "                'Cereales')"
   ]
  },
  {
   "cell_type": "markdown",
   "metadata": {},
   "source": [
    "### The Zen of Python\n",
    "Cualquier consejo que te haya podido dar hasta ahora se queda en nada comparado con los 20 principios que definió *Tim Peters* en 1999. Uno de los mayores colaboradores en la creación de este lenguaje"
   ]
  },
  {
   "cell_type": "code",
   "execution_count": null,
   "metadata": {},
   "outputs": [],
   "source": [
    "import this"
   ]
  },
  {
   "cell_type": "markdown",
   "metadata": {},
   "source": [
    "## 11. Resumen"
   ]
  },
  {
   "cell_type": "code",
   "execution_count": null,
   "metadata": {},
   "outputs": [],
   "source": [
    "# Declarar variables\n",
    "var = 10\n",
    "\n",
    "# Reasignar valores\n",
    "var = 12\n",
    "\n",
    "# Imprimir por pantalla\n",
    "print(\"Primera linea\")\n",
    "print(\"Variable declarada es:\", var)\n",
    "print(\"Variable declarada es: %s\" %(var))\n",
    "\n",
    "\"\"\"\n",
    "Comentarios\n",
    "Multilínea\n",
    "\"\"\"\n",
    "\n",
    "# Eliminar variables\n",
    "del var\n",
    "\n",
    "# Tipos de datos\n",
    "print(\"\\n\") # Simplemente para que haya un salto de linea en el output\n",
    "print(type(1)) # Int\n",
    "print(type(1.0)) # Float\n",
    "print(type(\"1\")) # String\n",
    "print(type(True)) # Boolean\n",
    "\n",
    "# Conversiones de tipos\n",
    "print(\"\\n\")\n",
    "var2 = 4\n",
    "print(type(var2))\n",
    "var2 = str(var2)\n",
    "print(type(var2))\n",
    "var2 = bool(var2)\n",
    "print(type(var2))\n",
    "\n",
    "# El valor nulo\n",
    "print(None)\n",
    "\n",
    "# Input de variables\n",
    "var3 = input(\"Inserta variable \")"
   ]
  }
 ],
 "metadata": {
  "kernelspec": {
   "display_name": "Python 3",
   "language": "python",
   "name": "python3"
  },
  "language_info": {
   "codemirror_mode": {
    "name": "ipython",
    "version": 3
   },
   "file_extension": ".py",
   "mimetype": "text/x-python",
   "name": "python",
   "nbconvert_exporter": "python",
   "pygments_lexer": "ipython3",
   "version": "3.11.9"
  },
  "nbTranslate": {
   "displayLangs": [
    "*"
   ],
   "hotkey": "alt-t",
   "langInMainMenu": true,
   "sourceLang": "en",
   "targetLang": "fr",
   "useGoogleTranslate": true
  },
  "varInspector": {
   "cols": {
    "lenName": 16,
    "lenType": 16,
    "lenVar": 40
   },
   "kernels_config": {
    "python": {
     "delete_cmd_postfix": "",
     "delete_cmd_prefix": "del ",
     "library": "var_list.py",
     "varRefreshCmd": "print(var_dic_list())"
    },
    "r": {
     "delete_cmd_postfix": ") ",
     "delete_cmd_prefix": "rm(",
     "library": "var_list.r",
     "varRefreshCmd": "cat(var_dic_list()) "
    }
   },
   "types_to_exclude": [
    "module",
    "function",
    "builtin_function_or_method",
    "instance",
    "_Feature"
   ],
   "window_display": false
  }
 },
 "nbformat": 4,
 "nbformat_minor": 4
}
